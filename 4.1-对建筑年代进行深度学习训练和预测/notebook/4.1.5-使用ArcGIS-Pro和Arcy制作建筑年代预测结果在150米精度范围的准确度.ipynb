{
 "cells": [
  {
   "cell_type": "markdown",
   "source": [
    "# 4.1.6-使用ArcGIS-Pro和Arcy制作建筑年代预测结果在150米精度范围的准确度"
   ],
   "metadata": {
    "collapsed": false
   },
   "id": "7fb8999028952d82"
  },
  {
   "cell_type": "markdown",
   "source": [
    "我们要复现论文中的图8：\n",
    "\n",
    "![](../../assets/图8-small.jpg)\n",
    "\n",
    "图片上表现的是预测的精准程度在150m的网格上的空间分布，图中可以看出：市中心的错误率高于郊区。这可能是由于建筑年龄的高度多样性、市中心旧建筑的频繁改造以及上述对改造建筑的严格规定所致。阿姆斯特丹郊区没有明显的空间格局，这表明分类结果的空间相关性很小。为了证明空间相关性小，作者还计算了莫兰指数，城市郊区结果的 Moran's I 为 0.27。 Moran's I 的范围为 -1 到 1，其中 -1 表示完美分散`dispersion` ，0 表示完美随机性  `randomness`，1 表示完美聚类`clustering`。我们预测的阿姆斯特丹郊区的莫兰指数为0.27，建筑年代表现出较弱的空间自相关性。"
   ],
   "metadata": {
    "collapsed": false
   },
   "id": "f5cf1f834c45037f"
  },
  {
   "cell_type": "markdown",
   "source": [
    "## 1.获取含建筑位置信息和预测准确度的建筑数据\n"
   ],
   "metadata": {
    "collapsed": false
   },
   "id": "cab910ac272ff257"
  },
  {
   "cell_type": "code",
   "execution_count": 1,
   "outputs": [
    {
     "data": {
      "text/plain": "      identificatie                id true_label  diff pre_label  \\\n0  0363100012061709              None       None   NaN      None   \n1  0363100012061225              None       None   NaN      None   \n2  0363100012061228  0363100012061228      –2023   0.0     –2023   \n3  0363100012062224              None       None   NaN      None   \n4  0363100012063200              None       None   NaN      None   \n\n                                            geometry  \n0  MULTIPOLYGON (((635512.808 5802343.021, 635518...  \n1  MULTIPOLYGON (((628083.847 5808893.547, 628087...  \n2  MULTIPOLYGON (((635718.103 5802400.059, 635709...  \n3  MULTIPOLYGON (((632084.702 5803319.551, 632084...  \n4  MULTIPOLYGON (((628012.652 5798762.544, 628013...  ",
      "text/html": "<div>\n<style scoped>\n    .dataframe tbody tr th:only-of-type {\n        vertical-align: middle;\n    }\n\n    .dataframe tbody tr th {\n        vertical-align: top;\n    }\n\n    .dataframe thead th {\n        text-align: right;\n    }\n</style>\n<table border=\"1\" class=\"dataframe\">\n  <thead>\n    <tr style=\"text-align: right;\">\n      <th></th>\n      <th>identificatie</th>\n      <th>id</th>\n      <th>true_label</th>\n      <th>diff</th>\n      <th>pre_label</th>\n      <th>geometry</th>\n    </tr>\n  </thead>\n  <tbody>\n    <tr>\n      <th>0</th>\n      <td>0363100012061709</td>\n      <td>None</td>\n      <td>None</td>\n      <td>NaN</td>\n      <td>None</td>\n      <td>MULTIPOLYGON (((635512.808 5802343.021, 635518...</td>\n    </tr>\n    <tr>\n      <th>1</th>\n      <td>0363100012061225</td>\n      <td>None</td>\n      <td>None</td>\n      <td>NaN</td>\n      <td>None</td>\n      <td>MULTIPOLYGON (((628083.847 5808893.547, 628087...</td>\n    </tr>\n    <tr>\n      <th>2</th>\n      <td>0363100012061228</td>\n      <td>0363100012061228</td>\n      <td>–2023</td>\n      <td>0.0</td>\n      <td>–2023</td>\n      <td>MULTIPOLYGON (((635718.103 5802400.059, 635709...</td>\n    </tr>\n    <tr>\n      <th>3</th>\n      <td>0363100012062224</td>\n      <td>None</td>\n      <td>None</td>\n      <td>NaN</td>\n      <td>None</td>\n      <td>MULTIPOLYGON (((632084.702 5803319.551, 632084...</td>\n    </tr>\n    <tr>\n      <th>4</th>\n      <td>0363100012063200</td>\n      <td>None</td>\n      <td>None</td>\n      <td>NaN</td>\n      <td>None</td>\n      <td>MULTIPOLYGON (((628012.652 5798762.544, 628013...</td>\n    </tr>\n  </tbody>\n</table>\n</div>"
     },
     "execution_count": 1,
     "metadata": {},
     "output_type": "execute_result"
    }
   ],
   "source": [
    "import geopandas as gpd\n",
    "import pandas as pd\n",
    "\n",
    "gdb = r\"../../5-ArcgisPro工程/建筑风格和年代深度学习.gdb\" # \n",
    "lr_name = 'predictions_with_building_age_diff_city_wide' # 在4.1.4中保存的全市范围建筑准确度的结果\n",
    "gdf = gpd.read_file(filename=gdb, layer=lr_name)\n",
    "gdf.head()"
   ],
   "metadata": {
    "collapsed": false,
    "ExecuteTime": {
     "end_time": "2023-10-26T06:41:14.812241800Z",
     "start_time": "2023-10-26T06:40:40.463550900Z"
    }
   },
   "id": "c7ecdd951ed53385"
  },
  {
   "cell_type": "markdown",
   "source": [
    "## 2.利用ArcPy的创建渔网工具创建150米的空间网格"
   ],
   "metadata": {
    "collapsed": false
   },
   "id": "c6eef1f9960788af"
  },
  {
   "cell_type": "markdown",
   "source": [
    "### 2.1创建渔网函数解析"
   ],
   "metadata": {
    "collapsed": false
   },
   "id": "36a409ba57aebabb"
  },
  {
   "cell_type": "markdown",
   "source": [
    "\n",
    "1. 官方帮助文档：[创建渔网 (数据管理)](https://pro.arcgis.com/zh-cn/pro-app/3.0/tool-reference/data-management/create-fishnet.htm)\n",
    "2. 在[《利用ArcGIS_Python制作考虑路况的交通等时圈》](https://cdn.renhai-lab.tech/archives/4.2.14-%E5%AE%9E%E6%93%8D3-%E5%88%A9%E7%94%A8ArcGIS_Python%E5%88%B6%E4%BD%9C%E8%80%83%E8%99%91%E8%B7%AF%E5%86%B5%E7%9A%84%E4%BA%A4%E9%80%9A%E7%AD%89%E6%97%B6%E5%9C%88#3.%E5%88%9B%E5%BB%BA%E6%B8%94%E7%BD%91)文也讲过：点击文章查看, 本文中的代码是在此基础上修改的。关键信息如下：\n",
    "- **a.创建渔网函数的参数**：\n",
    "    - out_feature_class：包含由矩形像元组成的渔网的输出要素类。\n",
    "    - **origin_coord**：矩形框的左下端点为原点\n",
    "    - **y_axis_coord**：此点与原点的连线用于判断旋转的角度 我们不用旋转所以定义为原点正上方的点\n",
    "    - cell_width：网格的宽度\n",
    "    - cell_height：网格的高度\n",
    "    - number_rows：填'0',代表留空，由cell_width和cell_height决定\n",
    "    - number_columns：填'0'，由cell_width和cell_height决定\n",
    "    - corner_coord：填'0'\n",
    "    - **labels**：'LABELS'\n",
    "    - **template**：以空格分隔的坐标字符串 - 将使用指定渔网的范围。坐标以 x-min，y-min，x-max，y-max 的顺序表示。\n",
    "    - geometry_type：生成面\n",
    "- **b.创建渔网返回的结果**：\n",
    "    - out_feature_class：包含由矩形像元组成的渔网的输出要素类。\n",
    "    - out_label：创建一个新的点要素类，其中每个渔网像元中心都具有标注点。如果选中了创建标注点参数（Python 中的 labels = 'LABELS'），则会创建一个新的点要素类，其中每个渔网像元中心都具有标注点。此要素类的名称以 _label 为后缀并与输出要素类相同，且创建于同一位置。"
   ],
   "metadata": {
    "collapsed": false
   },
   "id": "e33b199b2a180391"
  },
  {
   "cell_type": "markdown",
   "source": [
    "### 2.2 定义origin_coord和y_axis_coord\n",
    "\n",
    "从上文gdf中获取边界。"
   ],
   "metadata": {
    "collapsed": false
   },
   "id": "277be284c2ee2083"
  },
  {
   "cell_type": "code",
   "execution_count": 2,
   "outputs": [
    {
     "data": {
      "text/plain": "                                            geometry\n0  POLYGON ((640252.432 5798425.740, 640252.432 5...",
      "text/html": "<div>\n<style scoped>\n    .dataframe tbody tr th:only-of-type {\n        vertical-align: middle;\n    }\n\n    .dataframe tbody tr th {\n        vertical-align: top;\n    }\n\n    .dataframe thead th {\n        text-align: right;\n    }\n</style>\n<table border=\"1\" class=\"dataframe\">\n  <thead>\n    <tr style=\"text-align: right;\">\n      <th></th>\n      <th>geometry</th>\n    </tr>\n  </thead>\n  <tbody>\n    <tr>\n      <th>0</th>\n      <td>POLYGON ((640252.432 5798425.740, 640252.432 5...</td>\n    </tr>\n  </tbody>\n</table>\n</div>"
     },
     "execution_count": 2,
     "metadata": {},
     "output_type": "execute_result"
    }
   ],
   "source": [
    "from shapely.geometry import box\n",
    "\n",
    "# total_bounds返回一个元组，包含最小的x，最小的y，最大的x，最大的y\n",
    "x_min, y_min, x_max, y_max = gdf.total_bounds\n",
    "# 创建一个边界框\n",
    "bbox_geometry = box(x_min, y_min, x_max, y_max)\n",
    "# 创建一个GeoDataFrame，将边界框作为几何图形\n",
    "gdf_bbox = gpd.GeoDataFrame({'geometry': bbox_geometry}, index=[0]).set_crs(32631)\n",
    "gdf_bbox"
   ],
   "metadata": {
    "collapsed": false,
    "ExecuteTime": {
     "end_time": "2023-10-26T06:41:14.919989200Z",
     "start_time": "2023-10-26T06:41:14.812241800Z"
    }
   },
   "id": "cb75ae43a67f2f97"
  },
  {
   "cell_type": "code",
   "execution_count": 3,
   "outputs": [],
   "source": [
    "# # (可选)将边界框保存为shapefile\n",
    "# gdf_bbox.to_file(filename=gdb, layer='city_wide_bbox')"
   ],
   "metadata": {
    "collapsed": false,
    "ExecuteTime": {
     "end_time": "2023-10-26T06:41:14.920961400Z",
     "start_time": "2023-10-26T06:41:14.889808700Z"
    }
   },
   "id": "a98ffd8fb8fd3076"
  },
  {
   "cell_type": "code",
   "execution_count": 4,
   "outputs": [
    {
     "data": {
      "text/plain": "('617784.8387999535  5798425.739600182',\n '617784.8387999535  5810551.856800079')"
     },
     "execution_count": 4,
     "metadata": {},
     "output_type": "execute_result"
    }
   ],
   "source": [
    "# 定义origin_coord和y_axis_coord 空格分割\n",
    "origin_coord = f\"{x_min}  {y_min}\"\n",
    "y_axis_coord = f\"{x_min}  {y_max}\"\n",
    "origin_coord, y_axis_coord"
   ],
   "metadata": {
    "collapsed": false,
    "ExecuteTime": {
     "end_time": "2023-10-26T06:41:14.926958800Z",
     "start_time": "2023-10-26T06:41:14.906876600Z"
    }
   },
   "id": "f1425a2398950d15"
  },
  {
   "cell_type": "markdown",
   "source": [
    "### 导入arcpy创建渔网"
   ],
   "metadata": {
    "collapsed": false
   },
   "id": "404860bb78707a13"
  },
  {
   "cell_type": "code",
   "execution_count": 5,
   "outputs": [],
   "source": [
    "# 导入arcpy并设置工作空间\n",
    "\n",
    "import arcpy\n",
    "\n",
    "# 设置工作空间\n",
    "arcpy.env.workspace = gdb\n",
    "arcpy.env.overwriteOutput = True"
   ],
   "metadata": {
    "collapsed": false,
    "ExecuteTime": {
     "end_time": "2023-10-26T06:41:17.300642700Z",
     "start_time": "2023-10-26T06:41:14.920961400Z"
    }
   },
   "id": "d5677a029ef65af7"
  },
  {
   "cell_type": "code",
   "execution_count": 6,
   "outputs": [],
   "source": [
    "scales = 150 # 网格的单元尺度 单位为米"
   ],
   "metadata": {
    "collapsed": false,
    "ExecuteTime": {
     "end_time": "2023-10-26T06:41:17.316151500Z",
     "start_time": "2023-10-26T06:41:17.301643200Z"
    }
   },
   "id": "5b6cf5876b2f0b2f"
  },
  {
   "cell_type": "code",
   "execution_count": 7,
   "outputs": [
    {
     "data": {
      "text/plain": "'617784.8387999535 5798425.739600182 640252.4324002266 5810551.856800079'"
     },
     "execution_count": 7,
     "metadata": {},
     "output_type": "execute_result"
    }
   ],
   "source": [
    "extent = f\"{x_min} {y_min} {x_max} {y_max}\"\n",
    "extent"
   ],
   "metadata": {
    "collapsed": false,
    "ExecuteTime": {
     "end_time": "2023-10-26T06:41:17.362149900Z",
     "start_time": "2023-10-26T06:41:17.318154400Z"
    }
   },
   "id": "a4b605b9e63c57c8"
  },
  {
   "cell_type": "code",
   "execution_count": 8,
   "outputs": [],
   "source": [
    "# 设置空间参考对象\n",
    "arcpy.env.outputCoordinateSystem = arcpy.SpatialReference(32631)"
   ],
   "metadata": {
    "collapsed": false,
    "ExecuteTime": {
     "end_time": "2023-10-26T06:41:17.670847600Z",
     "start_time": "2023-10-26T06:41:17.654845800Z"
    }
   },
   "id": "c90da77050220d2c"
  },
  {
   "cell_type": "code",
   "execution_count": 9,
   "outputs": [],
   "source": [
    "out_fcs = 'fishnet' # 有bug 不能数字开头"
   ],
   "metadata": {
    "collapsed": false,
    "ExecuteTime": {
     "end_time": "2023-10-26T06:41:17.696849400Z",
     "start_time": "2023-10-26T06:41:17.667845600Z"
    }
   },
   "id": "e501759cd698c9b3"
  },
  {
   "cell_type": "code",
   "execution_count": 10,
   "outputs": [
    {
     "data": {
      "text/plain": "<Result '../../5-ArcgisPro工程/建筑风格和年代深度学习.gdb\\\\fishnet'>",
      "text/html": "<div class='gpresult'><h2>Messages</h2><div id='messages' data-messages='[\"开始时间: 2023年10月26日 14:41:19\",\"运行 成功，结束时间： 2023年10月26日 14:41:19 (历时: 0.95 秒)\"]' data-show='true'><div id = 'default' /></div></div>"
     },
     "execution_count": 10,
     "metadata": {},
     "output_type": "execute_result"
    }
   ],
   "source": [
    "# 设置工作空间\n",
    "arcpy.management.CreateFishnet(out_feature_class = out_fcs, # 包含由矩形像元组成的渔网的输出要素类。\n",
    "                               origin_coord = origin_coord, # 矩形框的左下端点为原点\n",
    "                               y_axis_coord = y_axis_coord, # 此点与原点的连线用于判断旋转的角度 我们不用旋转所以定义为原点正上方的点\n",
    "                               cell_width = scales, \n",
    "                               cell_height = scales,\n",
    "                               number_rows = \"0\", # 留空，由cell_width和cell_height决定\n",
    "                               number_columns = \"0\", # 留空，由cell_width和cell_height决定\n",
    "                               corner_coord = None, # 对角坐标不填写\n",
    "                               labels = \"LABELS\", \n",
    "                               template = extent, # 以空格分隔的坐标字符串 - 将使用指定渔网的范围。坐标以 x-min，y-min，x-max，y-max 的顺序表示。\n",
    "                               geometry_type = \"POLYGON\" # 生成面\n",
    "                               )"
   ],
   "metadata": {
    "collapsed": false,
    "ExecuteTime": {
     "end_time": "2023-10-26T06:41:19.983688900Z",
     "start_time": "2023-10-26T06:41:18.676939900Z"
    }
   },
   "id": "df5780b0579840e3"
  },
  {
   "cell_type": "code",
   "execution_count": 11,
   "outputs": [],
   "source": [
    "# 定义新产生的点要素的名称\n",
    "out_label = out_fcs + \"_label\""
   ],
   "metadata": {
    "collapsed": false,
    "ExecuteTime": {
     "end_time": "2023-10-26T06:41:20.010204900Z",
     "start_time": "2023-10-26T06:41:19.980691200Z"
    }
   },
   "id": "f6052ec70c42dac"
  },
  {
   "cell_type": "markdown",
   "source": [
    "## 3.空间连接\n",
    "\n",
    "geopandas和arcpy都有空间连接的功能，但是geopandas的空间连接功能更强大，而且方便进行数据统计，所以我们使用geopandas的空间连接功能。\n",
    "\n",
    "在选择处理工具的时候，我不喜欢用arcpy的游标进行数据处理，因为arcpy的游标处理数据的速度太慢了，而且代码也不够简洁。所以我更喜欢用geopandas基于dataframe的处理，更强大也更简洁。\n",
    "但是arcpy中提供一些实用的工具，比如同时创建渔网和渔网标注点，这个功能在geopandas中没有，所以我们用arcpy创建渔网，然后用geopandas进行空间连接。另外，制图的时候，我们也会用到ArcGIS Pro，可以实时看到制图的效果，并且渲染效果更好。"
   ],
   "metadata": {
    "collapsed": false
   },
   "id": "7cef13dbea7a6508"
  },
  {
   "cell_type": "code",
   "execution_count": 12,
   "outputs": [],
   "source": [
    "# 读取渔网\n",
    "gdf_fishnet = gpd.read_file(filename=gdb, layer=out_fcs)\n",
    "\n",
    "# 读取渔网标注点\n",
    "gdf_fishnet_label = gpd.read_file(filename=gdb, layer=out_label)"
   ],
   "metadata": {
    "collapsed": false,
    "ExecuteTime": {
     "end_time": "2023-10-26T06:41:23.872316Z",
     "start_time": "2023-10-26T06:41:19.996698300Z"
    }
   },
   "id": "a726c81bea29c1ef"
  },
  {
   "cell_type": "code",
   "execution_count": 13,
   "outputs": [
    {
     "data": {
      "text/plain": "(12150, 12150)"
     },
     "execution_count": 13,
     "metadata": {},
     "output_type": "execute_result"
    }
   ],
   "source": [
    "len(gdf_fishnet), len(gdf_fishnet_label)"
   ],
   "metadata": {
    "collapsed": false,
    "ExecuteTime": {
     "end_time": "2023-10-26T06:41:23.887314300Z",
     "start_time": "2023-10-26T06:41:23.868315200Z"
    }
   },
   "id": "9d20bca6d2e75b89"
  },
  {
   "cell_type": "code",
   "execution_count": 14,
   "outputs": [],
   "source": [
    "# 给渔网和标注点添加id列\n",
    "gdf_fishnet['id'] = gdf_fishnet.index\n",
    "gdf_fishnet_label['id'] = gdf_fishnet_label.index"
   ],
   "metadata": {
    "collapsed": false,
    "ExecuteTime": {
     "end_time": "2023-10-26T06:41:23.928836300Z",
     "start_time": "2023-10-26T06:41:23.884315Z"
    }
   },
   "id": "5812f6c0134b4760"
  },
  {
   "cell_type": "code",
   "execution_count": 15,
   "outputs": [
    {
     "data": {
      "text/plain": "'0.14.0'"
     },
     "execution_count": 15,
     "metadata": {},
     "output_type": "execute_result"
    }
   ],
   "source": [
    "# 查看geopandas的版本\n",
    "gpd.__version__"
   ],
   "metadata": {
    "collapsed": false,
    "ExecuteTime": {
     "end_time": "2023-10-26T06:41:23.981346400Z",
     "start_time": "2023-10-26T06:41:23.901319100Z"
    }
   },
   "id": "a739f76442a319b7"
  },
  {
   "cell_type": "markdown",
   "source": [
    "### 空间连接的方法：一种是使用geopandas.GeoDataFrame.sjoin_nearest 空间连接，一种是使用geopandas.GeoDataFrame.sjoin 空间连接\n",
    "\n",
    "- [官方帮助文档](https://geopandas.org/en/latest/docs/user_guide/mergingdata.html#spatial-joins)\n",
    "\n",
    "\n",
    "关键参数：\n",
    "1. predicate 值，这些值在 [Shapely文档](http://shapely.readthedocs.io/en/latest/manual.html#binary-predicates) 中定义：\n",
    "\n",
    "    intersects 相交\n",
    "    \n",
    "    contains 包含\n",
    "    \n",
    "    within 之内\n",
    "    \n",
    "    touches 触摸\n",
    "    \n",
    "    crosses 十字架\n",
    "    \n",
    "    overlaps 重叠\n",
    "how：\n",
    "2. how 参数指定将发生的连接类型以及在结果 GeoDataFrame 中保留哪些几何图形。它接受以下选项：\n",
    "    left ：使用您提供给 GeoDataFrame.sjoin() 的第一个（或 left_df） GeoDataFrame 中的索引；仅保留 left_df 几何列\n",
    "    \n",
    "    right ：使用第二个（或 right_df）的索引；仅保留 right_df 几何列\n",
    "    \n",
    "    inner ：使用两个 GeoDataFrame 索引值的交集；仅保留 left_df 几何列"
   ],
   "metadata": {
    "collapsed": false
   },
   "id": "43cd5cf7c330191"
  },
  {
   "cell_type": "code",
   "execution_count": 16,
   "outputs": [
    {
     "data": {
      "text/plain": "197114"
     },
     "execution_count": 16,
     "metadata": {},
     "output_type": "execute_result"
    }
   ],
   "source": [
    "# 我们已经有方格网了，直接使用geopandas.GeoDataFrame.sjoin 空间连接, 保留左边的数据，即渔网的数据，然后根据右侧的数据进行计算\n",
    "gdf_fishnet = gpd.sjoin(gdf_fishnet, gdf, how='left', predicate='intersects') # op参数在将来的版本中将被弃用，并建议您使用predicate参数代替。\n",
    "len(gdf_fishnet)"
   ],
   "metadata": {
    "collapsed": false,
    "ExecuteTime": {
     "end_time": "2023-10-26T06:41:24.491206600Z",
     "start_time": "2023-10-26T06:41:23.916836300Z"
    }
   },
   "id": "ed30e0e3b912a6f9"
  },
  {
   "cell_type": "code",
   "execution_count": 17,
   "outputs": [
    {
     "data": {
      "text/plain": "   Shape_Length  Shape_Area  \\\n0         600.0     22500.0   \n1         600.0     22500.0   \n2         600.0     22500.0   \n3         600.0     22500.0   \n4         600.0     22500.0   \n\n                                            geometry  id_left  index_right  \\\n0  MULTIPOLYGON (((617784.839 5798425.740, 617784...        0          NaN   \n1  MULTIPOLYGON (((617934.839 5798425.740, 617934...        1          NaN   \n2  MULTIPOLYGON (((618084.839 5798425.740, 618084...        2          NaN   \n3  MULTIPOLYGON (((618234.839 5798425.740, 618234...        3          NaN   \n4  MULTIPOLYGON (((618384.839 5798425.740, 618384...        4          NaN   \n\n  identificatie id_right true_label  diff pre_label  \n0           NaN      NaN        NaN   NaN       NaN  \n1           NaN      NaN        NaN   NaN       NaN  \n2           NaN      NaN        NaN   NaN       NaN  \n3           NaN      NaN        NaN   NaN       NaN  \n4           NaN      NaN        NaN   NaN       NaN  ",
      "text/html": "<div>\n<style scoped>\n    .dataframe tbody tr th:only-of-type {\n        vertical-align: middle;\n    }\n\n    .dataframe tbody tr th {\n        vertical-align: top;\n    }\n\n    .dataframe thead th {\n        text-align: right;\n    }\n</style>\n<table border=\"1\" class=\"dataframe\">\n  <thead>\n    <tr style=\"text-align: right;\">\n      <th></th>\n      <th>Shape_Length</th>\n      <th>Shape_Area</th>\n      <th>geometry</th>\n      <th>id_left</th>\n      <th>index_right</th>\n      <th>identificatie</th>\n      <th>id_right</th>\n      <th>true_label</th>\n      <th>diff</th>\n      <th>pre_label</th>\n    </tr>\n  </thead>\n  <tbody>\n    <tr>\n      <th>0</th>\n      <td>600.0</td>\n      <td>22500.0</td>\n      <td>MULTIPOLYGON (((617784.839 5798425.740, 617784...</td>\n      <td>0</td>\n      <td>NaN</td>\n      <td>NaN</td>\n      <td>NaN</td>\n      <td>NaN</td>\n      <td>NaN</td>\n      <td>NaN</td>\n    </tr>\n    <tr>\n      <th>1</th>\n      <td>600.0</td>\n      <td>22500.0</td>\n      <td>MULTIPOLYGON (((617934.839 5798425.740, 617934...</td>\n      <td>1</td>\n      <td>NaN</td>\n      <td>NaN</td>\n      <td>NaN</td>\n      <td>NaN</td>\n      <td>NaN</td>\n      <td>NaN</td>\n    </tr>\n    <tr>\n      <th>2</th>\n      <td>600.0</td>\n      <td>22500.0</td>\n      <td>MULTIPOLYGON (((618084.839 5798425.740, 618084...</td>\n      <td>2</td>\n      <td>NaN</td>\n      <td>NaN</td>\n      <td>NaN</td>\n      <td>NaN</td>\n      <td>NaN</td>\n      <td>NaN</td>\n    </tr>\n    <tr>\n      <th>3</th>\n      <td>600.0</td>\n      <td>22500.0</td>\n      <td>MULTIPOLYGON (((618234.839 5798425.740, 618234...</td>\n      <td>3</td>\n      <td>NaN</td>\n      <td>NaN</td>\n      <td>NaN</td>\n      <td>NaN</td>\n      <td>NaN</td>\n      <td>NaN</td>\n    </tr>\n    <tr>\n      <th>4</th>\n      <td>600.0</td>\n      <td>22500.0</td>\n      <td>MULTIPOLYGON (((618384.839 5798425.740, 618384...</td>\n      <td>4</td>\n      <td>NaN</td>\n      <td>NaN</td>\n      <td>NaN</td>\n      <td>NaN</td>\n      <td>NaN</td>\n      <td>NaN</td>\n    </tr>\n  </tbody>\n</table>\n</div>"
     },
     "execution_count": 17,
     "metadata": {},
     "output_type": "execute_result"
    }
   ],
   "source": [
    "gdf_fishnet.head()"
   ],
   "metadata": {
    "collapsed": false,
    "ExecuteTime": {
     "end_time": "2023-10-26T06:41:24.493179Z",
     "start_time": "2023-10-26T06:41:24.477175600Z"
    }
   },
   "id": "a210a4f093b33ee1"
  },
  {
   "cell_type": "code",
   "execution_count": 18,
   "outputs": [
    {
     "data": {
      "text/plain": "     Shape_Length  Shape_Area  \\\n58          600.0     22500.0   \n60          600.0     22500.0   \n208         600.0     22500.0   \n209         600.0     22500.0   \n209         600.0     22500.0   \n\n                                              geometry  id_left  index_right  \\\n58   MULTIPOLYGON (((626484.839 5798425.740, 626484...       58      78258.0   \n60   MULTIPOLYGON (((626784.839 5798425.740, 626784...       60      76728.0   \n208  MULTIPOLYGON (((626484.839 5798575.740, 626484...      208      77055.0   \n209  MULTIPOLYGON (((626634.839 5798575.740, 626634...      209      77055.0   \n209  MULTIPOLYGON (((626634.839 5798575.740, 626634...      209      77114.0   \n\n        identificatie          id_right true_label  diff pre_label  \n58   0363100012185957  0363100012185957      -1944   3.0     –2023  \n60   0363100012075481  0363100012075481      –2023   0.0     –2023  \n208  0363100012092829  0363100012092829      –1995   0.0     –1995  \n209  0363100012092829  0363100012092829      –1995   0.0     –1995  \n209  0363100012096189  0363100012096189      -1978   0.0     -1978  ",
      "text/html": "<div>\n<style scoped>\n    .dataframe tbody tr th:only-of-type {\n        vertical-align: middle;\n    }\n\n    .dataframe tbody tr th {\n        vertical-align: top;\n    }\n\n    .dataframe thead th {\n        text-align: right;\n    }\n</style>\n<table border=\"1\" class=\"dataframe\">\n  <thead>\n    <tr style=\"text-align: right;\">\n      <th></th>\n      <th>Shape_Length</th>\n      <th>Shape_Area</th>\n      <th>geometry</th>\n      <th>id_left</th>\n      <th>index_right</th>\n      <th>identificatie</th>\n      <th>id_right</th>\n      <th>true_label</th>\n      <th>diff</th>\n      <th>pre_label</th>\n    </tr>\n  </thead>\n  <tbody>\n    <tr>\n      <th>58</th>\n      <td>600.0</td>\n      <td>22500.0</td>\n      <td>MULTIPOLYGON (((626484.839 5798425.740, 626484...</td>\n      <td>58</td>\n      <td>78258.0</td>\n      <td>0363100012185957</td>\n      <td>0363100012185957</td>\n      <td>-1944</td>\n      <td>3.0</td>\n      <td>–2023</td>\n    </tr>\n    <tr>\n      <th>60</th>\n      <td>600.0</td>\n      <td>22500.0</td>\n      <td>MULTIPOLYGON (((626784.839 5798425.740, 626784...</td>\n      <td>60</td>\n      <td>76728.0</td>\n      <td>0363100012075481</td>\n      <td>0363100012075481</td>\n      <td>–2023</td>\n      <td>0.0</td>\n      <td>–2023</td>\n    </tr>\n    <tr>\n      <th>208</th>\n      <td>600.0</td>\n      <td>22500.0</td>\n      <td>MULTIPOLYGON (((626484.839 5798575.740, 626484...</td>\n      <td>208</td>\n      <td>77055.0</td>\n      <td>0363100012092829</td>\n      <td>0363100012092829</td>\n      <td>–1995</td>\n      <td>0.0</td>\n      <td>–1995</td>\n    </tr>\n    <tr>\n      <th>209</th>\n      <td>600.0</td>\n      <td>22500.0</td>\n      <td>MULTIPOLYGON (((626634.839 5798575.740, 626634...</td>\n      <td>209</td>\n      <td>77055.0</td>\n      <td>0363100012092829</td>\n      <td>0363100012092829</td>\n      <td>–1995</td>\n      <td>0.0</td>\n      <td>–1995</td>\n    </tr>\n    <tr>\n      <th>209</th>\n      <td>600.0</td>\n      <td>22500.0</td>\n      <td>MULTIPOLYGON (((626634.839 5798575.740, 626634...</td>\n      <td>209</td>\n      <td>77114.0</td>\n      <td>0363100012096189</td>\n      <td>0363100012096189</td>\n      <td>-1978</td>\n      <td>0.0</td>\n      <td>-1978</td>\n    </tr>\n  </tbody>\n</table>\n</div>"
     },
     "execution_count": 18,
     "metadata": {},
     "output_type": "execute_result"
    }
   ],
   "source": [
    "# 扔掉空网格数据\n",
    "gdf_fishnet = gdf_fishnet.dropna(subset=['id_right'])\n",
    "gdf_fishnet.head()"
   ],
   "metadata": {
    "collapsed": false,
    "ExecuteTime": {
     "end_time": "2023-10-26T06:41:24.604382600Z",
     "start_time": "2023-10-26T06:41:24.484176100Z"
    }
   },
   "id": "c312160a18cff49d"
  },
  {
   "cell_type": "code",
   "execution_count": 19,
   "outputs": [
    {
     "data": {
      "text/plain": "58       3.0\n60       0.0\n208      0.0\n209      0.0\n209      0.0\n        ... \n11473    0.0\n11473    0.0\n11474    1.0\n11474    1.0\n11474    1.0\nName: diff, Length: 92666, dtype: float64"
     },
     "execution_count": 19,
     "metadata": {},
     "output_type": "execute_result"
    }
   ],
   "source": [
    "# 计算预测的准确度 \n",
    "# 我们对diff列取绝对值，然后正则化到0-1\n",
    "gdf_fishnet['diff'].abs() # 取绝对值"
   ],
   "metadata": {
    "collapsed": false,
    "ExecuteTime": {
     "end_time": "2023-10-26T06:41:24.619746400Z",
     "start_time": "2023-10-26T06:41:24.548388900Z"
    }
   },
   "id": "b057e71c10fb8dc8"
  },
  {
   "cell_type": "code",
   "execution_count": 20,
   "outputs": [
    {
     "data": {
      "text/plain": "8.0"
     },
     "execution_count": 20,
     "metadata": {},
     "output_type": "execute_result"
    }
   ],
   "source": [
    "gdf_fishnet['diff'].abs().max() # 取绝对值的最大值"
   ],
   "metadata": {
    "collapsed": false,
    "ExecuteTime": {
     "end_time": "2023-10-26T06:41:24.621745200Z",
     "start_time": "2023-10-26T06:41:24.565385200Z"
    }
   },
   "id": "fa5ea40f09d64af9"
  },
  {
   "cell_type": "code",
   "execution_count": 21,
   "outputs": [
    {
     "data": {
      "text/plain": "58       0.375\n60       0.000\n208      0.000\n209      0.000\n209      0.000\n         ...  \n11473    0.000\n11473    0.000\n11474    0.125\n11474    0.125\n11474    0.125\nName: diff, Length: 92666, dtype: float64"
     },
     "execution_count": 21,
     "metadata": {},
     "output_type": "execute_result"
    }
   ],
   "source": [
    "gdf_fishnet['diff'].abs() / gdf_fishnet['diff'].abs().max() # 取绝对值的最大值"
   ],
   "metadata": {
    "collapsed": false,
    "ExecuteTime": {
     "end_time": "2023-10-26T06:41:24.621745200Z",
     "start_time": "2023-10-26T06:41:24.581377900Z"
    }
   },
   "id": "232d00dd937ff5f1"
  },
  {
   "cell_type": "code",
   "execution_count": 22,
   "outputs": [],
   "source": [
    "# 取值0-1 diff是差值为0预测准确，为1预测不准确，但是我们需要的是预测准确度，所以取1-diff\n",
    "gdf_fishnet['accuracy'] = 1 - gdf_fishnet['diff'].abs() / gdf_fishnet['diff'].abs().max()"
   ],
   "metadata": {
    "collapsed": false,
    "ExecuteTime": {
     "end_time": "2023-10-26T06:41:24.687774900Z",
     "start_time": "2023-10-26T06:41:24.595379700Z"
    }
   },
   "id": "7bbc34af13f0ff65"
  },
  {
   "cell_type": "code",
   "execution_count": 23,
   "outputs": [
    {
     "data": {
      "text/plain": "58       0.625\n60       1.000\n208      1.000\n209      1.000\n209      1.000\n         ...  \n11473    1.000\n11473    1.000\n11474    0.875\n11474    0.875\n11474    0.875\nName: accuracy, Length: 92666, dtype: float64"
     },
     "execution_count": 23,
     "metadata": {},
     "output_type": "execute_result"
    }
   ],
   "source": [
    "gdf_fishnet['accuracy']"
   ],
   "metadata": {
    "collapsed": false,
    "ExecuteTime": {
     "end_time": "2023-10-26T06:41:24.740260400Z",
     "start_time": "2023-10-26T06:41:24.613383100Z"
    }
   },
   "id": "44aacacfd0af072"
  },
  {
   "cell_type": "code",
   "execution_count": 24,
   "outputs": [],
   "source": [
    "# 根据网格进行分类统计 使用groupby或者geopandas的dissolve，我们使用dissolve\n",
    "accuracy_150m = gdf_fishnet.dissolve(by='id_left', aggfunc={\"accuracy\": \"mean\"})"
   ],
   "metadata": {
    "collapsed": false,
    "ExecuteTime": {
     "end_time": "2023-10-26T06:41:27.364965500Z",
     "start_time": "2023-10-26T06:41:24.627748100Z"
    }
   },
   "id": "ff50a06a33a19401"
  },
  {
   "cell_type": "code",
   "execution_count": 25,
   "outputs": [
    {
     "data": {
      "text/plain": "      id_left                                           geometry  accuracy\n0          58  POLYGON ((626484.839 5798425.740, 626484.839 5...     0.625\n1          60  POLYGON ((626784.839 5798425.740, 626784.839 5...     1.000\n2         208  POLYGON ((626484.839 5798575.740, 626484.839 5...     1.000\n3         209  POLYGON ((626634.839 5798725.740, 626784.839 5...     1.000\n4         210  POLYGON ((626784.839 5798575.740, 626784.839 5...     1.000\n...       ...                                                ...       ...\n3121    11470  POLYGON ((628434.839 5809975.740, 628434.839 5...     1.000\n3122    11471  POLYGON ((628584.839 5809825.740, 628434.839 5...     1.000\n3123    11472  POLYGON ((628584.839 5809825.740, 628584.839 5...     1.000\n3124    11473  POLYGON ((628734.839 5809825.740, 628734.839 5...     1.000\n3125    11474  POLYGON ((628884.839 5809975.740, 629034.839 5...     0.875\n\n[3126 rows x 3 columns]",
      "text/html": "<div>\n<style scoped>\n    .dataframe tbody tr th:only-of-type {\n        vertical-align: middle;\n    }\n\n    .dataframe tbody tr th {\n        vertical-align: top;\n    }\n\n    .dataframe thead th {\n        text-align: right;\n    }\n</style>\n<table border=\"1\" class=\"dataframe\">\n  <thead>\n    <tr style=\"text-align: right;\">\n      <th></th>\n      <th>id_left</th>\n      <th>geometry</th>\n      <th>accuracy</th>\n    </tr>\n  </thead>\n  <tbody>\n    <tr>\n      <th>0</th>\n      <td>58</td>\n      <td>POLYGON ((626484.839 5798425.740, 626484.839 5...</td>\n      <td>0.625</td>\n    </tr>\n    <tr>\n      <th>1</th>\n      <td>60</td>\n      <td>POLYGON ((626784.839 5798425.740, 626784.839 5...</td>\n      <td>1.000</td>\n    </tr>\n    <tr>\n      <th>2</th>\n      <td>208</td>\n      <td>POLYGON ((626484.839 5798575.740, 626484.839 5...</td>\n      <td>1.000</td>\n    </tr>\n    <tr>\n      <th>3</th>\n      <td>209</td>\n      <td>POLYGON ((626634.839 5798725.740, 626784.839 5...</td>\n      <td>1.000</td>\n    </tr>\n    <tr>\n      <th>4</th>\n      <td>210</td>\n      <td>POLYGON ((626784.839 5798575.740, 626784.839 5...</td>\n      <td>1.000</td>\n    </tr>\n    <tr>\n      <th>...</th>\n      <td>...</td>\n      <td>...</td>\n      <td>...</td>\n    </tr>\n    <tr>\n      <th>3121</th>\n      <td>11470</td>\n      <td>POLYGON ((628434.839 5809975.740, 628434.839 5...</td>\n      <td>1.000</td>\n    </tr>\n    <tr>\n      <th>3122</th>\n      <td>11471</td>\n      <td>POLYGON ((628584.839 5809825.740, 628434.839 5...</td>\n      <td>1.000</td>\n    </tr>\n    <tr>\n      <th>3123</th>\n      <td>11472</td>\n      <td>POLYGON ((628584.839 5809825.740, 628584.839 5...</td>\n      <td>1.000</td>\n    </tr>\n    <tr>\n      <th>3124</th>\n      <td>11473</td>\n      <td>POLYGON ((628734.839 5809825.740, 628734.839 5...</td>\n      <td>1.000</td>\n    </tr>\n    <tr>\n      <th>3125</th>\n      <td>11474</td>\n      <td>POLYGON ((628884.839 5809975.740, 629034.839 5...</td>\n      <td>0.875</td>\n    </tr>\n  </tbody>\n</table>\n<p>3126 rows × 3 columns</p>\n</div>"
     },
     "execution_count": 25,
     "metadata": {},
     "output_type": "execute_result"
    }
   ],
   "source": [
    "accuracy_150m.reset_index()"
   ],
   "metadata": {
    "collapsed": false,
    "ExecuteTime": {
     "end_time": "2023-10-26T06:41:27.402968400Z",
     "start_time": "2023-10-26T06:41:27.366964200Z"
    }
   },
   "id": "48420709078bfac5"
  },
  {
   "cell_type": "code",
   "execution_count": 26,
   "outputs": [
    {
     "data": {
      "text/plain": "       Shape_Length  Shape_Area  \\\n58            600.0     22500.0   \n60            600.0     22500.0   \n208           600.0     22500.0   \n209           600.0     22500.0   \n209           600.0     22500.0   \n...             ...         ...   \n11473         600.0     22500.0   \n11473         600.0     22500.0   \n11474         600.0     22500.0   \n11474         600.0     22500.0   \n11474         600.0     22500.0   \n\n                                                geometry  id_left  \\\n58     MULTIPOLYGON (((626484.839 5798425.740, 626484...       58   \n60     MULTIPOLYGON (((626784.839 5798425.740, 626784...       60   \n208    MULTIPOLYGON (((626484.839 5798575.740, 626484...      208   \n209    MULTIPOLYGON (((626634.839 5798575.740, 626634...      209   \n209    MULTIPOLYGON (((626634.839 5798575.740, 626634...      209   \n...                                                  ...      ...   \n11473  MULTIPOLYGON (((628734.839 5809825.740, 628734...    11473   \n11473  MULTIPOLYGON (((628734.839 5809825.740, 628734...    11473   \n11474  MULTIPOLYGON (((628884.839 5809825.740, 628884...    11474   \n11474  MULTIPOLYGON (((628884.839 5809825.740, 628884...    11474   \n11474  MULTIPOLYGON (((628884.839 5809825.740, 628884...    11474   \n\n       index_right     identificatie          id_right true_label  diff  \\\n58         78258.0  0363100012185957  0363100012185957      -1944   3.0   \n60         76728.0  0363100012075481  0363100012075481      –2023   0.0   \n208        77055.0  0363100012092829  0363100012092829      –1995   0.0   \n209        77055.0  0363100012092829  0363100012092829      –1995   0.0   \n209        77114.0  0363100012096189  0363100012096189      -1978   0.0   \n...            ...               ...               ...        ...   ...   \n11473      44318.0  0363100012108160  0363100012108160      –1995   0.0   \n11473      44298.0  0363100012106234  0363100012106234      –1995   0.0   \n11474      43577.0  0363100012063965  0363100012063965      –1995   1.0   \n11474      43728.0  0363100012073264  0363100012073264      –1995   1.0   \n11474      43750.0  0363100012074576  0363100012074576      –1995   1.0   \n\n      pre_label  accuracy  \n58        –2023     0.625  \n60        –2023     1.000  \n208       –1995     1.000  \n209       –1995     1.000  \n209       -1978     1.000  \n...         ...       ...  \n11473     –1995     1.000  \n11473     –1995     1.000  \n11474     –2023     0.875  \n11474     –2023     0.875  \n11474     –2023     0.875  \n\n[92666 rows x 11 columns]",
      "text/html": "<div>\n<style scoped>\n    .dataframe tbody tr th:only-of-type {\n        vertical-align: middle;\n    }\n\n    .dataframe tbody tr th {\n        vertical-align: top;\n    }\n\n    .dataframe thead th {\n        text-align: right;\n    }\n</style>\n<table border=\"1\" class=\"dataframe\">\n  <thead>\n    <tr style=\"text-align: right;\">\n      <th></th>\n      <th>Shape_Length</th>\n      <th>Shape_Area</th>\n      <th>geometry</th>\n      <th>id_left</th>\n      <th>index_right</th>\n      <th>identificatie</th>\n      <th>id_right</th>\n      <th>true_label</th>\n      <th>diff</th>\n      <th>pre_label</th>\n      <th>accuracy</th>\n    </tr>\n  </thead>\n  <tbody>\n    <tr>\n      <th>58</th>\n      <td>600.0</td>\n      <td>22500.0</td>\n      <td>MULTIPOLYGON (((626484.839 5798425.740, 626484...</td>\n      <td>58</td>\n      <td>78258.0</td>\n      <td>0363100012185957</td>\n      <td>0363100012185957</td>\n      <td>-1944</td>\n      <td>3.0</td>\n      <td>–2023</td>\n      <td>0.625</td>\n    </tr>\n    <tr>\n      <th>60</th>\n      <td>600.0</td>\n      <td>22500.0</td>\n      <td>MULTIPOLYGON (((626784.839 5798425.740, 626784...</td>\n      <td>60</td>\n      <td>76728.0</td>\n      <td>0363100012075481</td>\n      <td>0363100012075481</td>\n      <td>–2023</td>\n      <td>0.0</td>\n      <td>–2023</td>\n      <td>1.000</td>\n    </tr>\n    <tr>\n      <th>208</th>\n      <td>600.0</td>\n      <td>22500.0</td>\n      <td>MULTIPOLYGON (((626484.839 5798575.740, 626484...</td>\n      <td>208</td>\n      <td>77055.0</td>\n      <td>0363100012092829</td>\n      <td>0363100012092829</td>\n      <td>–1995</td>\n      <td>0.0</td>\n      <td>–1995</td>\n      <td>1.000</td>\n    </tr>\n    <tr>\n      <th>209</th>\n      <td>600.0</td>\n      <td>22500.0</td>\n      <td>MULTIPOLYGON (((626634.839 5798575.740, 626634...</td>\n      <td>209</td>\n      <td>77055.0</td>\n      <td>0363100012092829</td>\n      <td>0363100012092829</td>\n      <td>–1995</td>\n      <td>0.0</td>\n      <td>–1995</td>\n      <td>1.000</td>\n    </tr>\n    <tr>\n      <th>209</th>\n      <td>600.0</td>\n      <td>22500.0</td>\n      <td>MULTIPOLYGON (((626634.839 5798575.740, 626634...</td>\n      <td>209</td>\n      <td>77114.0</td>\n      <td>0363100012096189</td>\n      <td>0363100012096189</td>\n      <td>-1978</td>\n      <td>0.0</td>\n      <td>-1978</td>\n      <td>1.000</td>\n    </tr>\n    <tr>\n      <th>...</th>\n      <td>...</td>\n      <td>...</td>\n      <td>...</td>\n      <td>...</td>\n      <td>...</td>\n      <td>...</td>\n      <td>...</td>\n      <td>...</td>\n      <td>...</td>\n      <td>...</td>\n      <td>...</td>\n    </tr>\n    <tr>\n      <th>11473</th>\n      <td>600.0</td>\n      <td>22500.0</td>\n      <td>MULTIPOLYGON (((628734.839 5809825.740, 628734...</td>\n      <td>11473</td>\n      <td>44318.0</td>\n      <td>0363100012108160</td>\n      <td>0363100012108160</td>\n      <td>–1995</td>\n      <td>0.0</td>\n      <td>–1995</td>\n      <td>1.000</td>\n    </tr>\n    <tr>\n      <th>11473</th>\n      <td>600.0</td>\n      <td>22500.0</td>\n      <td>MULTIPOLYGON (((628734.839 5809825.740, 628734...</td>\n      <td>11473</td>\n      <td>44298.0</td>\n      <td>0363100012106234</td>\n      <td>0363100012106234</td>\n      <td>–1995</td>\n      <td>0.0</td>\n      <td>–1995</td>\n      <td>1.000</td>\n    </tr>\n    <tr>\n      <th>11474</th>\n      <td>600.0</td>\n      <td>22500.0</td>\n      <td>MULTIPOLYGON (((628884.839 5809825.740, 628884...</td>\n      <td>11474</td>\n      <td>43577.0</td>\n      <td>0363100012063965</td>\n      <td>0363100012063965</td>\n      <td>–1995</td>\n      <td>1.0</td>\n      <td>–2023</td>\n      <td>0.875</td>\n    </tr>\n    <tr>\n      <th>11474</th>\n      <td>600.0</td>\n      <td>22500.0</td>\n      <td>MULTIPOLYGON (((628884.839 5809825.740, 628884...</td>\n      <td>11474</td>\n      <td>43728.0</td>\n      <td>0363100012073264</td>\n      <td>0363100012073264</td>\n      <td>–1995</td>\n      <td>1.0</td>\n      <td>–2023</td>\n      <td>0.875</td>\n    </tr>\n    <tr>\n      <th>11474</th>\n      <td>600.0</td>\n      <td>22500.0</td>\n      <td>MULTIPOLYGON (((628884.839 5809825.740, 628884...</td>\n      <td>11474</td>\n      <td>43750.0</td>\n      <td>0363100012074576</td>\n      <td>0363100012074576</td>\n      <td>–1995</td>\n      <td>1.0</td>\n      <td>–2023</td>\n      <td>0.875</td>\n    </tr>\n  </tbody>\n</table>\n<p>92666 rows × 11 columns</p>\n</div>"
     },
     "execution_count": 26,
     "metadata": {},
     "output_type": "execute_result"
    }
   ],
   "source": [
    "gdf_fishnet"
   ],
   "metadata": {
    "collapsed": false,
    "ExecuteTime": {
     "end_time": "2023-10-26T06:41:27.519397800Z",
     "start_time": "2023-10-26T06:41:27.414474Z"
    }
   },
   "id": "562967565d874a24"
  },
  {
   "cell_type": "code",
   "execution_count": 27,
   "outputs": [
    {
     "data": {
      "text/plain": "       id_left                                           geometry  accuracy  \\\n0           58  POLYGON ((626484.839 5798425.740, 626484.839 5...     0.625   \n1           60  POLYGON ((626784.839 5798425.740, 626784.839 5...     1.000   \n2          208  POLYGON ((626484.839 5798575.740, 626484.839 5...     1.000   \n3          209  POLYGON ((626634.839 5798725.740, 626784.839 5...     1.000   \n4          209  POLYGON ((626634.839 5798725.740, 626784.839 5...     1.000   \n...        ...                                                ...       ...   \n92661    11473  POLYGON ((628734.839 5809825.740, 628734.839 5...     1.000   \n92662    11473  POLYGON ((628734.839 5809825.740, 628734.839 5...     1.000   \n92663    11474  POLYGON ((628884.839 5809975.740, 629034.839 5...     0.875   \n92664    11474  POLYGON ((628884.839 5809975.740, 629034.839 5...     0.875   \n92665    11474  POLYGON ((628884.839 5809975.740, 629034.839 5...     0.875   \n\n          identificatie true_label pre_label  diff  \n0      0363100012185957      -1944     –2023   3.0  \n1      0363100012075481      –2023     –2023   0.0  \n2      0363100012092829      –1995     –1995   0.0  \n3      0363100012092829      –1995     –1995   0.0  \n4      0363100012096189      -1978     -1978   0.0  \n...                 ...        ...       ...   ...  \n92661  0363100012108160      –1995     –1995   0.0  \n92662  0363100012106234      –1995     –1995   0.0  \n92663  0363100012063965      –1995     –2023   1.0  \n92664  0363100012073264      –1995     –2023   1.0  \n92665  0363100012074576      –1995     –2023   1.0  \n\n[92666 rows x 7 columns]",
      "text/html": "<div>\n<style scoped>\n    .dataframe tbody tr th:only-of-type {\n        vertical-align: middle;\n    }\n\n    .dataframe tbody tr th {\n        vertical-align: top;\n    }\n\n    .dataframe thead th {\n        text-align: right;\n    }\n</style>\n<table border=\"1\" class=\"dataframe\">\n  <thead>\n    <tr style=\"text-align: right;\">\n      <th></th>\n      <th>id_left</th>\n      <th>geometry</th>\n      <th>accuracy</th>\n      <th>identificatie</th>\n      <th>true_label</th>\n      <th>pre_label</th>\n      <th>diff</th>\n    </tr>\n  </thead>\n  <tbody>\n    <tr>\n      <th>0</th>\n      <td>58</td>\n      <td>POLYGON ((626484.839 5798425.740, 626484.839 5...</td>\n      <td>0.625</td>\n      <td>0363100012185957</td>\n      <td>-1944</td>\n      <td>–2023</td>\n      <td>3.0</td>\n    </tr>\n    <tr>\n      <th>1</th>\n      <td>60</td>\n      <td>POLYGON ((626784.839 5798425.740, 626784.839 5...</td>\n      <td>1.000</td>\n      <td>0363100012075481</td>\n      <td>–2023</td>\n      <td>–2023</td>\n      <td>0.0</td>\n    </tr>\n    <tr>\n      <th>2</th>\n      <td>208</td>\n      <td>POLYGON ((626484.839 5798575.740, 626484.839 5...</td>\n      <td>1.000</td>\n      <td>0363100012092829</td>\n      <td>–1995</td>\n      <td>–1995</td>\n      <td>0.0</td>\n    </tr>\n    <tr>\n      <th>3</th>\n      <td>209</td>\n      <td>POLYGON ((626634.839 5798725.740, 626784.839 5...</td>\n      <td>1.000</td>\n      <td>0363100012092829</td>\n      <td>–1995</td>\n      <td>–1995</td>\n      <td>0.0</td>\n    </tr>\n    <tr>\n      <th>4</th>\n      <td>209</td>\n      <td>POLYGON ((626634.839 5798725.740, 626784.839 5...</td>\n      <td>1.000</td>\n      <td>0363100012096189</td>\n      <td>-1978</td>\n      <td>-1978</td>\n      <td>0.0</td>\n    </tr>\n    <tr>\n      <th>...</th>\n      <td>...</td>\n      <td>...</td>\n      <td>...</td>\n      <td>...</td>\n      <td>...</td>\n      <td>...</td>\n      <td>...</td>\n    </tr>\n    <tr>\n      <th>92661</th>\n      <td>11473</td>\n      <td>POLYGON ((628734.839 5809825.740, 628734.839 5...</td>\n      <td>1.000</td>\n      <td>0363100012108160</td>\n      <td>–1995</td>\n      <td>–1995</td>\n      <td>0.0</td>\n    </tr>\n    <tr>\n      <th>92662</th>\n      <td>11473</td>\n      <td>POLYGON ((628734.839 5809825.740, 628734.839 5...</td>\n      <td>1.000</td>\n      <td>0363100012106234</td>\n      <td>–1995</td>\n      <td>–1995</td>\n      <td>0.0</td>\n    </tr>\n    <tr>\n      <th>92663</th>\n      <td>11474</td>\n      <td>POLYGON ((628884.839 5809975.740, 629034.839 5...</td>\n      <td>0.875</td>\n      <td>0363100012063965</td>\n      <td>–1995</td>\n      <td>–2023</td>\n      <td>1.0</td>\n    </tr>\n    <tr>\n      <th>92664</th>\n      <td>11474</td>\n      <td>POLYGON ((628884.839 5809975.740, 629034.839 5...</td>\n      <td>0.875</td>\n      <td>0363100012073264</td>\n      <td>–1995</td>\n      <td>–2023</td>\n      <td>1.0</td>\n    </tr>\n    <tr>\n      <th>92665</th>\n      <td>11474</td>\n      <td>POLYGON ((628884.839 5809975.740, 629034.839 5...</td>\n      <td>0.875</td>\n      <td>0363100012074576</td>\n      <td>–1995</td>\n      <td>–2023</td>\n      <td>1.0</td>\n    </tr>\n  </tbody>\n</table>\n<p>92666 rows × 7 columns</p>\n</div>"
     },
     "execution_count": 27,
     "metadata": {},
     "output_type": "execute_result"
    }
   ],
   "source": [
    "# 我们需要将gdf_fishnet中的预测标签和真实标签合并到accuracy_150m中\n",
    "\n",
    "accuracy_150m = accuracy_150m.reset_index().merge(gdf_fishnet[['id_left', 'identificatie', 'true_label','pre_label','diff']], left_on='id_left', right_on='id_left', how='inner')\n",
    "accuracy_150m"
   ],
   "metadata": {
    "collapsed": false,
    "ExecuteTime": {
     "end_time": "2023-10-26T06:41:27.614410400Z",
     "start_time": "2023-10-26T06:41:27.427535300Z"
    }
   },
   "id": "f40476ee74e2ec46"
  },
  {
   "cell_type": "markdown",
   "source": [],
   "metadata": {
    "collapsed": false
   },
   "id": "f562b149a6c521e8"
  },
  {
   "cell_type": "code",
   "execution_count": 28,
   "outputs": [
    {
     "data": {
      "text/plain": "                             geometry     id\n0      POINT (617859.839 5798500.740)      0\n1      POINT (618009.839 5798500.740)      1\n2      POINT (618159.839 5798500.740)      2\n3      POINT (618309.839 5798500.740)      3\n4      POINT (618459.839 5798500.740)      4\n...                               ...    ...\n12145  POINT (639609.839 5810500.740)  12145\n12146  POINT (639759.839 5810500.740)  12146\n12147  POINT (639909.839 5810500.740)  12147\n12148  POINT (640059.839 5810500.740)  12148\n12149  POINT (640209.839 5810500.740)  12149\n\n[12150 rows x 2 columns]",
      "text/html": "<div>\n<style scoped>\n    .dataframe tbody tr th:only-of-type {\n        vertical-align: middle;\n    }\n\n    .dataframe tbody tr th {\n        vertical-align: top;\n    }\n\n    .dataframe thead th {\n        text-align: right;\n    }\n</style>\n<table border=\"1\" class=\"dataframe\">\n  <thead>\n    <tr style=\"text-align: right;\">\n      <th></th>\n      <th>geometry</th>\n      <th>id</th>\n    </tr>\n  </thead>\n  <tbody>\n    <tr>\n      <th>0</th>\n      <td>POINT (617859.839 5798500.740)</td>\n      <td>0</td>\n    </tr>\n    <tr>\n      <th>1</th>\n      <td>POINT (618009.839 5798500.740)</td>\n      <td>1</td>\n    </tr>\n    <tr>\n      <th>2</th>\n      <td>POINT (618159.839 5798500.740)</td>\n      <td>2</td>\n    </tr>\n    <tr>\n      <th>3</th>\n      <td>POINT (618309.839 5798500.740)</td>\n      <td>3</td>\n    </tr>\n    <tr>\n      <th>4</th>\n      <td>POINT (618459.839 5798500.740)</td>\n      <td>4</td>\n    </tr>\n    <tr>\n      <th>...</th>\n      <td>...</td>\n      <td>...</td>\n    </tr>\n    <tr>\n      <th>12145</th>\n      <td>POINT (639609.839 5810500.740)</td>\n      <td>12145</td>\n    </tr>\n    <tr>\n      <th>12146</th>\n      <td>POINT (639759.839 5810500.740)</td>\n      <td>12146</td>\n    </tr>\n    <tr>\n      <th>12147</th>\n      <td>POINT (639909.839 5810500.740)</td>\n      <td>12147</td>\n    </tr>\n    <tr>\n      <th>12148</th>\n      <td>POINT (640059.839 5810500.740)</td>\n      <td>12148</td>\n    </tr>\n    <tr>\n      <th>12149</th>\n      <td>POINT (640209.839 5810500.740)</td>\n      <td>12149</td>\n    </tr>\n  </tbody>\n</table>\n<p>12150 rows × 2 columns</p>\n</div>"
     },
     "execution_count": 28,
     "metadata": {},
     "output_type": "execute_result"
    }
   ],
   "source": [
    "gdf_fishnet_label"
   ],
   "metadata": {
    "collapsed": false,
    "ExecuteTime": {
     "end_time": "2023-10-26T06:41:27.616926500Z",
     "start_time": "2023-10-26T06:41:27.507890400Z"
    }
   },
   "id": "7c967084252dafdf"
  },
  {
   "cell_type": "code",
   "execution_count": 29,
   "outputs": [],
   "source": [
    "# 我们需要的是点的准确度，所以将渔网的准确度赋值给渔网标注点 我们使用merge\n",
    "gdf_fishnet_label2 = gdf_fishnet_label.merge(accuracy_150m, left_on='id',right_on='id_left' , how='right')"
   ],
   "metadata": {
    "collapsed": false,
    "ExecuteTime": {
     "end_time": "2023-10-26T06:41:27.676926600Z",
     "start_time": "2023-10-26T06:41:27.521398Z"
    }
   },
   "id": "f56d7812e93b914e"
  },
  {
   "cell_type": "code",
   "execution_count": 30,
   "outputs": [
    {
     "data": {
      "text/plain": "                           geometry_x     id  id_left  \\\n0      POINT (626559.839 5798500.740)     58       58   \n1      POINT (626859.839 5798500.740)     60       60   \n2      POINT (626559.839 5798650.740)    208      208   \n3      POINT (626709.839 5798650.740)    209      209   \n4      POINT (626709.839 5798650.740)    209      209   \n...                               ...    ...      ...   \n92661  POINT (628809.839 5809900.740)  11473    11473   \n92662  POINT (628809.839 5809900.740)  11473    11473   \n92663  POINT (628959.839 5809900.740)  11474    11474   \n92664  POINT (628959.839 5809900.740)  11474    11474   \n92665  POINT (628959.839 5809900.740)  11474    11474   \n\n                                              geometry_y  accuracy  \\\n0      POLYGON ((626484.839 5798425.740, 626484.839 5...     0.625   \n1      POLYGON ((626784.839 5798425.740, 626784.839 5...     1.000   \n2      POLYGON ((626484.839 5798575.740, 626484.839 5...     1.000   \n3      POLYGON ((626634.839 5798725.740, 626784.839 5...     1.000   \n4      POLYGON ((626634.839 5798725.740, 626784.839 5...     1.000   \n...                                                  ...       ...   \n92661  POLYGON ((628734.839 5809825.740, 628734.839 5...     1.000   \n92662  POLYGON ((628734.839 5809825.740, 628734.839 5...     1.000   \n92663  POLYGON ((628884.839 5809975.740, 629034.839 5...     0.875   \n92664  POLYGON ((628884.839 5809975.740, 629034.839 5...     0.875   \n92665  POLYGON ((628884.839 5809975.740, 629034.839 5...     0.875   \n\n          identificatie true_label pre_label  diff  \n0      0363100012185957      -1944     –2023   3.0  \n1      0363100012075481      –2023     –2023   0.0  \n2      0363100012092829      –1995     –1995   0.0  \n3      0363100012092829      –1995     –1995   0.0  \n4      0363100012096189      -1978     -1978   0.0  \n...                 ...        ...       ...   ...  \n92661  0363100012108160      –1995     –1995   0.0  \n92662  0363100012106234      –1995     –1995   0.0  \n92663  0363100012063965      –1995     –2023   1.0  \n92664  0363100012073264      –1995     –2023   1.0  \n92665  0363100012074576      –1995     –2023   1.0  \n\n[92666 rows x 9 columns]",
      "text/html": "<div>\n<style scoped>\n    .dataframe tbody tr th:only-of-type {\n        vertical-align: middle;\n    }\n\n    .dataframe tbody tr th {\n        vertical-align: top;\n    }\n\n    .dataframe thead th {\n        text-align: right;\n    }\n</style>\n<table border=\"1\" class=\"dataframe\">\n  <thead>\n    <tr style=\"text-align: right;\">\n      <th></th>\n      <th>geometry_x</th>\n      <th>id</th>\n      <th>id_left</th>\n      <th>geometry_y</th>\n      <th>accuracy</th>\n      <th>identificatie</th>\n      <th>true_label</th>\n      <th>pre_label</th>\n      <th>diff</th>\n    </tr>\n  </thead>\n  <tbody>\n    <tr>\n      <th>0</th>\n      <td>POINT (626559.839 5798500.740)</td>\n      <td>58</td>\n      <td>58</td>\n      <td>POLYGON ((626484.839 5798425.740, 626484.839 5...</td>\n      <td>0.625</td>\n      <td>0363100012185957</td>\n      <td>-1944</td>\n      <td>–2023</td>\n      <td>3.0</td>\n    </tr>\n    <tr>\n      <th>1</th>\n      <td>POINT (626859.839 5798500.740)</td>\n      <td>60</td>\n      <td>60</td>\n      <td>POLYGON ((626784.839 5798425.740, 626784.839 5...</td>\n      <td>1.000</td>\n      <td>0363100012075481</td>\n      <td>–2023</td>\n      <td>–2023</td>\n      <td>0.0</td>\n    </tr>\n    <tr>\n      <th>2</th>\n      <td>POINT (626559.839 5798650.740)</td>\n      <td>208</td>\n      <td>208</td>\n      <td>POLYGON ((626484.839 5798575.740, 626484.839 5...</td>\n      <td>1.000</td>\n      <td>0363100012092829</td>\n      <td>–1995</td>\n      <td>–1995</td>\n      <td>0.0</td>\n    </tr>\n    <tr>\n      <th>3</th>\n      <td>POINT (626709.839 5798650.740)</td>\n      <td>209</td>\n      <td>209</td>\n      <td>POLYGON ((626634.839 5798725.740, 626784.839 5...</td>\n      <td>1.000</td>\n      <td>0363100012092829</td>\n      <td>–1995</td>\n      <td>–1995</td>\n      <td>0.0</td>\n    </tr>\n    <tr>\n      <th>4</th>\n      <td>POINT (626709.839 5798650.740)</td>\n      <td>209</td>\n      <td>209</td>\n      <td>POLYGON ((626634.839 5798725.740, 626784.839 5...</td>\n      <td>1.000</td>\n      <td>0363100012096189</td>\n      <td>-1978</td>\n      <td>-1978</td>\n      <td>0.0</td>\n    </tr>\n    <tr>\n      <th>...</th>\n      <td>...</td>\n      <td>...</td>\n      <td>...</td>\n      <td>...</td>\n      <td>...</td>\n      <td>...</td>\n      <td>...</td>\n      <td>...</td>\n      <td>...</td>\n    </tr>\n    <tr>\n      <th>92661</th>\n      <td>POINT (628809.839 5809900.740)</td>\n      <td>11473</td>\n      <td>11473</td>\n      <td>POLYGON ((628734.839 5809825.740, 628734.839 5...</td>\n      <td>1.000</td>\n      <td>0363100012108160</td>\n      <td>–1995</td>\n      <td>–1995</td>\n      <td>0.0</td>\n    </tr>\n    <tr>\n      <th>92662</th>\n      <td>POINT (628809.839 5809900.740)</td>\n      <td>11473</td>\n      <td>11473</td>\n      <td>POLYGON ((628734.839 5809825.740, 628734.839 5...</td>\n      <td>1.000</td>\n      <td>0363100012106234</td>\n      <td>–1995</td>\n      <td>–1995</td>\n      <td>0.0</td>\n    </tr>\n    <tr>\n      <th>92663</th>\n      <td>POINT (628959.839 5809900.740)</td>\n      <td>11474</td>\n      <td>11474</td>\n      <td>POLYGON ((628884.839 5809975.740, 629034.839 5...</td>\n      <td>0.875</td>\n      <td>0363100012063965</td>\n      <td>–1995</td>\n      <td>–2023</td>\n      <td>1.0</td>\n    </tr>\n    <tr>\n      <th>92664</th>\n      <td>POINT (628959.839 5809900.740)</td>\n      <td>11474</td>\n      <td>11474</td>\n      <td>POLYGON ((628884.839 5809975.740, 629034.839 5...</td>\n      <td>0.875</td>\n      <td>0363100012073264</td>\n      <td>–1995</td>\n      <td>–2023</td>\n      <td>1.0</td>\n    </tr>\n    <tr>\n      <th>92665</th>\n      <td>POINT (628959.839 5809900.740)</td>\n      <td>11474</td>\n      <td>11474</td>\n      <td>POLYGON ((628884.839 5809975.740, 629034.839 5...</td>\n      <td>0.875</td>\n      <td>0363100012074576</td>\n      <td>–1995</td>\n      <td>–2023</td>\n      <td>1.0</td>\n    </tr>\n  </tbody>\n</table>\n<p>92666 rows × 9 columns</p>\n</div>"
     },
     "execution_count": 30,
     "metadata": {},
     "output_type": "execute_result"
    }
   ],
   "source": [
    "gdf_fishnet_label2"
   ],
   "metadata": {
    "collapsed": false,
    "ExecuteTime": {
     "end_time": "2023-10-26T06:41:27.703937300Z",
     "start_time": "2023-10-26T06:41:27.579398400Z"
    }
   },
   "id": "79492c09822920d5"
  },
  {
   "cell_type": "code",
   "execution_count": 31,
   "outputs": [
    {
     "data": {
      "text/plain": "          id                                           geometry  accuracy  \\\n0         58  POLYGON ((626484.839 5798425.740, 626484.839 5...     0.625   \n1         60  POLYGON ((626784.839 5798425.740, 626784.839 5...     1.000   \n2        208  POLYGON ((626484.839 5798575.740, 626484.839 5...     1.000   \n3        209  POLYGON ((626634.839 5798725.740, 626784.839 5...     1.000   \n4        209  POLYGON ((626634.839 5798725.740, 626784.839 5...     1.000   \n...      ...                                                ...       ...   \n92661  11473  POLYGON ((628734.839 5809825.740, 628734.839 5...     1.000   \n92662  11473  POLYGON ((628734.839 5809825.740, 628734.839 5...     1.000   \n92663  11474  POLYGON ((628884.839 5809975.740, 629034.839 5...     0.875   \n92664  11474  POLYGON ((628884.839 5809975.740, 629034.839 5...     0.875   \n92665  11474  POLYGON ((628884.839 5809975.740, 629034.839 5...     0.875   \n\n          identificatie true_label pre_label  diff  \n0      0363100012185957      -1944     –2023   3.0  \n1      0363100012075481      –2023     –2023   0.0  \n2      0363100012092829      –1995     –1995   0.0  \n3      0363100012092829      –1995     –1995   0.0  \n4      0363100012096189      -1978     -1978   0.0  \n...                 ...        ...       ...   ...  \n92661  0363100012108160      –1995     –1995   0.0  \n92662  0363100012106234      –1995     –1995   0.0  \n92663  0363100012063965      –1995     –2023   1.0  \n92664  0363100012073264      –1995     –2023   1.0  \n92665  0363100012074576      –1995     –2023   1.0  \n\n[92666 rows x 7 columns]",
      "text/html": "<div>\n<style scoped>\n    .dataframe tbody tr th:only-of-type {\n        vertical-align: middle;\n    }\n\n    .dataframe tbody tr th {\n        vertical-align: top;\n    }\n\n    .dataframe thead th {\n        text-align: right;\n    }\n</style>\n<table border=\"1\" class=\"dataframe\">\n  <thead>\n    <tr style=\"text-align: right;\">\n      <th></th>\n      <th>id</th>\n      <th>geometry</th>\n      <th>accuracy</th>\n      <th>identificatie</th>\n      <th>true_label</th>\n      <th>pre_label</th>\n      <th>diff</th>\n    </tr>\n  </thead>\n  <tbody>\n    <tr>\n      <th>0</th>\n      <td>58</td>\n      <td>POLYGON ((626484.839 5798425.740, 626484.839 5...</td>\n      <td>0.625</td>\n      <td>0363100012185957</td>\n      <td>-1944</td>\n      <td>–2023</td>\n      <td>3.0</td>\n    </tr>\n    <tr>\n      <th>1</th>\n      <td>60</td>\n      <td>POLYGON ((626784.839 5798425.740, 626784.839 5...</td>\n      <td>1.000</td>\n      <td>0363100012075481</td>\n      <td>–2023</td>\n      <td>–2023</td>\n      <td>0.0</td>\n    </tr>\n    <tr>\n      <th>2</th>\n      <td>208</td>\n      <td>POLYGON ((626484.839 5798575.740, 626484.839 5...</td>\n      <td>1.000</td>\n      <td>0363100012092829</td>\n      <td>–1995</td>\n      <td>–1995</td>\n      <td>0.0</td>\n    </tr>\n    <tr>\n      <th>3</th>\n      <td>209</td>\n      <td>POLYGON ((626634.839 5798725.740, 626784.839 5...</td>\n      <td>1.000</td>\n      <td>0363100012092829</td>\n      <td>–1995</td>\n      <td>–1995</td>\n      <td>0.0</td>\n    </tr>\n    <tr>\n      <th>4</th>\n      <td>209</td>\n      <td>POLYGON ((626634.839 5798725.740, 626784.839 5...</td>\n      <td>1.000</td>\n      <td>0363100012096189</td>\n      <td>-1978</td>\n      <td>-1978</td>\n      <td>0.0</td>\n    </tr>\n    <tr>\n      <th>...</th>\n      <td>...</td>\n      <td>...</td>\n      <td>...</td>\n      <td>...</td>\n      <td>...</td>\n      <td>...</td>\n      <td>...</td>\n    </tr>\n    <tr>\n      <th>92661</th>\n      <td>11473</td>\n      <td>POLYGON ((628734.839 5809825.740, 628734.839 5...</td>\n      <td>1.000</td>\n      <td>0363100012108160</td>\n      <td>–1995</td>\n      <td>–1995</td>\n      <td>0.0</td>\n    </tr>\n    <tr>\n      <th>92662</th>\n      <td>11473</td>\n      <td>POLYGON ((628734.839 5809825.740, 628734.839 5...</td>\n      <td>1.000</td>\n      <td>0363100012106234</td>\n      <td>–1995</td>\n      <td>–1995</td>\n      <td>0.0</td>\n    </tr>\n    <tr>\n      <th>92663</th>\n      <td>11474</td>\n      <td>POLYGON ((628884.839 5809975.740, 629034.839 5...</td>\n      <td>0.875</td>\n      <td>0363100012063965</td>\n      <td>–1995</td>\n      <td>–2023</td>\n      <td>1.0</td>\n    </tr>\n    <tr>\n      <th>92664</th>\n      <td>11474</td>\n      <td>POLYGON ((628884.839 5809975.740, 629034.839 5...</td>\n      <td>0.875</td>\n      <td>0363100012073264</td>\n      <td>–1995</td>\n      <td>–2023</td>\n      <td>1.0</td>\n    </tr>\n    <tr>\n      <th>92665</th>\n      <td>11474</td>\n      <td>POLYGON ((628884.839 5809975.740, 629034.839 5...</td>\n      <td>0.875</td>\n      <td>0363100012074576</td>\n      <td>–1995</td>\n      <td>–2023</td>\n      <td>1.0</td>\n    </tr>\n  </tbody>\n</table>\n<p>92666 rows × 7 columns</p>\n</div>"
     },
     "execution_count": 31,
     "metadata": {},
     "output_type": "execute_result"
    }
   ],
   "source": [
    "## 清理数据\n",
    "accuracy_polygon = gdf_fishnet_label2.drop(columns=['id_left', 'geometry_x']).rename(columns={'geometry_y': 'geometry'})\n",
    "accuracy_polygon"
   ],
   "metadata": {
    "collapsed": false,
    "ExecuteTime": {
     "end_time": "2023-10-26T06:41:27.720442300Z",
     "start_time": "2023-10-26T06:41:27.587403600Z"
    }
   },
   "id": "66c22b956eb8059b"
  },
  {
   "cell_type": "code",
   "execution_count": 32,
   "outputs": [
    {
     "data": {
      "text/plain": "          id                                           geometry  accuracy  \\\n0         58  POLYGON ((626484.839 5798425.740, 626484.839 5...     0.625   \n1         60  POLYGON ((626784.839 5798425.740, 626784.839 5...     1.000   \n2        208  POLYGON ((626484.839 5798575.740, 626484.839 5...     1.000   \n3        209  POLYGON ((626634.839 5798725.740, 626784.839 5...     1.000   \n4        209  POLYGON ((626634.839 5798725.740, 626784.839 5...     1.000   \n...      ...                                                ...       ...   \n92661  11473  POLYGON ((628734.839 5809825.740, 628734.839 5...     1.000   \n92662  11473  POLYGON ((628734.839 5809825.740, 628734.839 5...     1.000   \n92663  11474  POLYGON ((628884.839 5809975.740, 629034.839 5...     0.875   \n92664  11474  POLYGON ((628884.839 5809975.740, 629034.839 5...     0.875   \n92665  11474  POLYGON ((628884.839 5809975.740, 629034.839 5...     0.875   \n\n          identificatie true_label pre_label  diff  \n0      0363100012185957      -1944     –2023   3.0  \n1      0363100012075481      –2023     –2023   0.0  \n2      0363100012092829      –1995     –1995   0.0  \n3      0363100012092829      –1995     –1995   0.0  \n4      0363100012096189      -1978     -1978   0.0  \n...                 ...        ...       ...   ...  \n92661  0363100012108160      –1995     –1995   0.0  \n92662  0363100012106234      –1995     –1995   0.0  \n92663  0363100012063965      –1995     –2023   1.0  \n92664  0363100012073264      –1995     –2023   1.0  \n92665  0363100012074576      –1995     –2023   1.0  \n\n[92666 rows x 7 columns]",
      "text/html": "<div>\n<style scoped>\n    .dataframe tbody tr th:only-of-type {\n        vertical-align: middle;\n    }\n\n    .dataframe tbody tr th {\n        vertical-align: top;\n    }\n\n    .dataframe thead th {\n        text-align: right;\n    }\n</style>\n<table border=\"1\" class=\"dataframe\">\n  <thead>\n    <tr style=\"text-align: right;\">\n      <th></th>\n      <th>id</th>\n      <th>geometry</th>\n      <th>accuracy</th>\n      <th>identificatie</th>\n      <th>true_label</th>\n      <th>pre_label</th>\n      <th>diff</th>\n    </tr>\n  </thead>\n  <tbody>\n    <tr>\n      <th>0</th>\n      <td>58</td>\n      <td>POLYGON ((626484.839 5798425.740, 626484.839 5...</td>\n      <td>0.625</td>\n      <td>0363100012185957</td>\n      <td>-1944</td>\n      <td>–2023</td>\n      <td>3.0</td>\n    </tr>\n    <tr>\n      <th>1</th>\n      <td>60</td>\n      <td>POLYGON ((626784.839 5798425.740, 626784.839 5...</td>\n      <td>1.000</td>\n      <td>0363100012075481</td>\n      <td>–2023</td>\n      <td>–2023</td>\n      <td>0.0</td>\n    </tr>\n    <tr>\n      <th>2</th>\n      <td>208</td>\n      <td>POLYGON ((626484.839 5798575.740, 626484.839 5...</td>\n      <td>1.000</td>\n      <td>0363100012092829</td>\n      <td>–1995</td>\n      <td>–1995</td>\n      <td>0.0</td>\n    </tr>\n    <tr>\n      <th>3</th>\n      <td>209</td>\n      <td>POLYGON ((626634.839 5798725.740, 626784.839 5...</td>\n      <td>1.000</td>\n      <td>0363100012092829</td>\n      <td>–1995</td>\n      <td>–1995</td>\n      <td>0.0</td>\n    </tr>\n    <tr>\n      <th>4</th>\n      <td>209</td>\n      <td>POLYGON ((626634.839 5798725.740, 626784.839 5...</td>\n      <td>1.000</td>\n      <td>0363100012096189</td>\n      <td>-1978</td>\n      <td>-1978</td>\n      <td>0.0</td>\n    </tr>\n    <tr>\n      <th>...</th>\n      <td>...</td>\n      <td>...</td>\n      <td>...</td>\n      <td>...</td>\n      <td>...</td>\n      <td>...</td>\n      <td>...</td>\n    </tr>\n    <tr>\n      <th>92661</th>\n      <td>11473</td>\n      <td>POLYGON ((628734.839 5809825.740, 628734.839 5...</td>\n      <td>1.000</td>\n      <td>0363100012108160</td>\n      <td>–1995</td>\n      <td>–1995</td>\n      <td>0.0</td>\n    </tr>\n    <tr>\n      <th>92662</th>\n      <td>11473</td>\n      <td>POLYGON ((628734.839 5809825.740, 628734.839 5...</td>\n      <td>1.000</td>\n      <td>0363100012106234</td>\n      <td>–1995</td>\n      <td>–1995</td>\n      <td>0.0</td>\n    </tr>\n    <tr>\n      <th>92663</th>\n      <td>11474</td>\n      <td>POLYGON ((628884.839 5809975.740, 629034.839 5...</td>\n      <td>0.875</td>\n      <td>0363100012063965</td>\n      <td>–1995</td>\n      <td>–2023</td>\n      <td>1.0</td>\n    </tr>\n    <tr>\n      <th>92664</th>\n      <td>11474</td>\n      <td>POLYGON ((628884.839 5809975.740, 629034.839 5...</td>\n      <td>0.875</td>\n      <td>0363100012073264</td>\n      <td>–1995</td>\n      <td>–2023</td>\n      <td>1.0</td>\n    </tr>\n    <tr>\n      <th>92665</th>\n      <td>11474</td>\n      <td>POLYGON ((628884.839 5809975.740, 629034.839 5...</td>\n      <td>0.875</td>\n      <td>0363100012074576</td>\n      <td>–1995</td>\n      <td>–2023</td>\n      <td>1.0</td>\n    </tr>\n  </tbody>\n</table>\n<p>92666 rows × 7 columns</p>\n</div>"
     },
     "execution_count": 32,
     "metadata": {},
     "output_type": "execute_result"
    }
   ],
   "source": [
    "accuracy_polygon_gdf = gpd.GeoDataFrame(accuracy_polygon, geometry='geometry').set_crs(32631)\n",
    "accuracy_polygon_gdf"
   ],
   "metadata": {
    "collapsed": false,
    "ExecuteTime": {
     "end_time": "2023-10-26T06:41:27.810479100Z",
     "start_time": "2023-10-26T06:41:27.630926800Z"
    }
   },
   "id": "a0b4712bf91eba4e"
  },
  {
   "cell_type": "code",
   "execution_count": 33,
   "id": "8da47960",
   "metadata": {
    "ExecuteTime": {
     "end_time": "2023-10-26T06:41:46.302676300Z",
     "start_time": "2023-10-26T06:41:27.680924800Z"
    }
   },
   "outputs": [
    {
     "name": "stderr",
     "output_type": "stream",
     "text": [
      "<ipython-input-33-c92a42c7ae6e>:2: UserWarning: Column names longer than 10 characters will be truncated when saved to ESRI Shapefile.\n",
      "  accuracy_polygon_gdf.to_file(filename=gdb, layer='accuracy_150m_polygon')\n"
     ]
    }
   ],
   "source": [
    "# 保存到保存面数据到数据库 在ArcGIS Pro制图\n",
    "accuracy_polygon_gdf.to_file(filename=gdb, layer='accuracy_150m_polygon')"
   ]
  },
  {
   "cell_type": "code",
   "execution_count": 34,
   "outputs": [],
   "source": [
    "# 保存一份geojson 用于空间自相关研究\n",
    "accuracy_polygon_gdf.to_file(filename='../../data/output/accuracy_150m_polygon.geojson')"
   ],
   "metadata": {
    "collapsed": false,
    "ExecuteTime": {
     "end_time": "2023-10-26T06:42:06.445133500Z",
     "start_time": "2023-10-26T06:41:46.304674200Z"
    }
   },
   "id": "caac0d8bb7111355"
  },
  {
   "cell_type": "code",
   "execution_count": 158,
   "outputs": [],
   "source": [
    "### 保存点数据\n",
    "accuracy_points = gdf_fishnet_label2.drop(columns=['id_left', 'id_right', 'geometry_y']).rename(\n",
    "    columns={'geometry_x': 'geometry'})\n",
    "gpd.GeoDataFrame(accuracy_points, geometry='geometry').set_crs(32631).to_file(filename=gdb, layer='accuracy_150m_points')"
   ],
   "metadata": {
    "collapsed": false,
    "ExecuteTime": {
     "end_time": "2023-10-26T04:09:08.702056500Z",
     "start_time": "2023-10-26T04:09:07.795304700Z"
    }
   },
   "id": "716c5cb607232d7e"
  },
  {
   "cell_type": "markdown",
   "source": [
    "## ArcGIS Pro制图\n",
    "详见ArcGIS Pro工程"
   ],
   "metadata": {
    "collapsed": false
   },
   "id": "b26cec0bce8616ef"
  },
  {
   "cell_type": "markdown",
   "source": [
    "![](../../5-ArcgisPro工程/阿姆斯特丹全市范围建筑年代预测准确度空间分布图.jpg)"
   ],
   "metadata": {
    "collapsed": false
   },
   "id": "7e15fb17d450d028"
  },
  {
   "cell_type": "code",
   "execution_count": null,
   "outputs": [],
   "source": [],
   "metadata": {
    "collapsed": false
   },
   "id": "f756d9cc8c28d7ba"
  }
 ],
 "metadata": {
  "kernelspec": {
   "display_name": "ArcGISPro",
   "language": "Python",
   "name": "python3"
  },
  "language_info": {
   "file_extension": ".py",
   "name": "python",
   "version": "3"
  }
 },
 "nbformat": 4,
 "nbformat_minor": 5
}
